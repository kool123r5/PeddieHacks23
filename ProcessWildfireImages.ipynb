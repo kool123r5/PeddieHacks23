{
  "nbformat": 4,
  "nbformat_minor": 0,
  "metadata": {
    "colab": {
      "provenance": []
    },
    "kernelspec": {
      "name": "python3",
      "display_name": "Python 3"
    },
    "language_info": {
      "name": "python"
    }
  },
  "cells": [
    {
      "cell_type": "code",
      "source": [
        "#Import all necessary modules"
      ],
      "metadata": {
        "id": "pPSNrNAMI0Ld"
      },
      "execution_count": null,
      "outputs": []
    },
    {
      "cell_type": "code",
      "execution_count": null,
      "metadata": {
        "id": "2pyU-UlcMA1F",
        "colab": {
          "base_uri": "https://localhost:8080/"
        },
        "outputId": "9cb81e11-8e64-4398-ee33-26a5773dc44c"
      },
      "outputs": [
        {
          "output_type": "stream",
          "name": "stdout",
          "text": [
            "Mounted at /content/drive\n"
          ]
        }
      ],
      "source": [
        "from google.colab import drive\n",
        "drive.mount('/content/drive')"
      ]
    },
    {
      "cell_type": "code",
      "source": [
        "from osgeo import gdal\n",
        "import matplotlib.pyplot as plt"
      ],
      "metadata": {
        "id": "B9JYDDH2MtFV"
      },
      "execution_count": null,
      "outputs": []
    },
    {
      "cell_type": "code",
      "source": [
        "import os\n",
        "import numpy as np"
      ],
      "metadata": {
        "id": "Rx0aQt3mNPb8"
      },
      "execution_count": null,
      "outputs": []
    },
    {
      "cell_type": "code",
      "source": [
        "from PIL import Image"
      ],
      "metadata": {
        "id": "1UFefe4Mbsq3"
      },
      "execution_count": null,
      "outputs": []
    },
    {
      "cell_type": "code",
      "source": [
        "from torch.utils.data import DataLoader\n",
        "from torchvision import transforms"
      ],
      "metadata": {
        "id": "RbhRo34_OK3m"
      },
      "execution_count": null,
      "outputs": []
    },
    {
      "cell_type": "code",
      "source": [
        "import os\n",
        "import numpy as np\n",
        "import torch\n",
        "from torch.utils.data import Dataset, DataLoader\n",
        "from torchvision import transforms\n",
        "from osgeo import gdal"
      ],
      "metadata": {
        "id": "cOCXq74lUqPf"
      },
      "execution_count": null,
      "outputs": []
    },
    {
      "cell_type": "code",
      "source": [
        "\n",
        "#Storing the directories in which the images are stored\n",
        "\n",
        "wildfire_dir = \"/content/drive/MyDrive/z227056_allbands_fire\"\n",
        "non_wildfire_dir = \"/content/drive/MyDrive/z224082_allbands_nonfire\""
      ],
      "metadata": {
        "id": "46_eEx5bNHu6"
      },
      "execution_count": null,
      "outputs": []
    },
    {
      "cell_type": "code",
      "source": [
        "#Function to process the Landsat satellite images\n",
        "def load_and_preprocess_image(file_path):\n",
        "    dataset = gdal.Open(file_path)\n",
        "    band_data_list = []\n",
        "    for band_idx in [7, 4, 10]:  # Assuming bands 7, 4, and 10\n",
        "        band = dataset.GetRasterBand(band_idx)\n",
        "        band_data = band.ReadAsArray()\n",
        "        band_data = (band_data - np.min(band_data)) / (np.max(band_data) - np.min(band_data))\n",
        "        band_data_list.append(band_data)\n",
        "\n",
        "    # Stack band data to form an RGB image\n",
        "    composite_image = np.stack(band_data_list, axis=-1)\n",
        "    composite_image = (composite_image * 255).astype(np.uint8)  # Convert to 8-bit uint\n",
        "\n",
        "    return Image.fromarray(composite_image)"
      ],
      "metadata": {
        "id": "JoL5p56yNJWl"
      },
      "execution_count": null,
      "outputs": []
    },
    {
      "cell_type": "code",
      "source": [
        "#Load the filepaths for all the images, and preprocess them with the function\n",
        "\n",
        "fire_image_paths = [os.path.join(wildfire_dir, filename) for filename in os.listdir(wildfire_dir)]\n",
        "non_image_paths = [os.path.join(non_wildfire_dir, filename) for filename in os.listdir(non_wildfire_dir)]\n",
        "\n",
        "# Preprocess the images\n",
        "fire_images = [load_and_preprocess_image(path) for path in fire_image_paths]\n",
        "non_images = [load_and_preprocess_image(path) for path in non_image_paths]"
      ],
      "metadata": {
        "colab": {
          "base_uri": "https://localhost:8080/"
        },
        "id": "tvHvftn8NKx0",
        "outputId": "53953ba6-9ad8-4485-ff28-349469b46e91"
      },
      "execution_count": null,
      "outputs": [
        {
          "output_type": "stream",
          "name": "stderr",
          "text": [
            "<ipython-input-9-112a07a95d33>:8: RuntimeWarning: invalid value encountered in divide\n",
            "  band_data = (band_data - np.min(band_data)) / (np.max(band_data) - np.min(band_data))\n"
          ]
        }
      ]
    },
    {
      "cell_type": "code",
      "source": [
        "import pickle\n",
        "\n",
        "#Save the lists to be used while training the model\n",
        "with open('fire_images.pkl', 'wb') as f:\n",
        "    pickle.dump(fire_images, f)\n",
        "\n",
        "with open('non_images.pkl', 'wb') as f:\n",
        "    pickle.dump(non_images, f)"
      ],
      "metadata": {
        "id": "bwjqph6GW9Kr"
      },
      "execution_count": null,
      "outputs": []
    }
  ]
}